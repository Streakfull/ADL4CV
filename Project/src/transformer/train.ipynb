{
 "cells": [
  {
   "cell_type": "code",
   "execution_count": 73,
   "metadata": {},
   "outputs": [
    {
     "name": "stdout",
     "output_type": "stream",
     "text": [
      "The autoreload extension is already loaded. To reload it, use:\n",
      "  %reload_ext autoreload\n"
     ]
    }
   ],
   "source": [
    "%load_ext autoreload\n",
    "%autoreload 2\n",
    "import sys  # noqadefined\n",
    "import os  # noqa\n",
    "sys.path.append(os.path.abspath(os.path.join('..', '')))  # noqa\n",
    "from termcolor import colored, cprint\n",
    "from transformer.random_tf import RandTransformerModel\n",
    "from options.transformer_options import TransformerOptions\n",
    "from torch.utils.data import DataLoader\n",
    "import torch\n",
    "from datasets.shape_net_z_sets import ShapeNetZSets\n",
    "from utils.visualizer import Visualizer\n",
    "import inspect\n",
    "import time\n",
    "from dataset_preprocessing.constants import DATA_SET_PATH, FULL_DATA_SET_PATH\n",
    "from tqdm import tqdm\n",
    "from torch import profiler"
   ]
  },
  {
   "cell_type": "code",
   "execution_count": 74,
   "metadata": {},
   "outputs": [
    {
     "name": "stdout",
     "output_type": "stream",
     "text": [
      "[*] Enc has Attn at i_level, i_block: 3, 0\n",
      "Working with z of shape (1, 256, 8, 8, 8) = 131072 dimensions.\n",
      "[*] Dec has Attn at i_level, i_block: 3, 0\n",
      "[*] VQVAE: weight successfully load from: ../raw_dataset/vqvae.pth\n",
      "---------- Networks initialized -------------\n",
      "-----------------------------------------------\n",
      "[*] create image directory:\n",
      "c:\\Users\\Youssef\\Repos\\TUM\\SS23\\Advanced Deep learning\\ADL4CV\\Project\\src\\transformer\\raw_dataset\\logs\\rand-tf-8\\images...\n"
     ]
    }
   ],
   "source": [
    "vq_cfg = '../configs/pvqae_configs.yaml'\n",
    "tf_config = '../configs/tansformer.yaml'\n",
    "vq_checkpoint = '../raw_dataset/vqvae.pth'\n",
    "\n",
    "options =  TransformerOptions(config_path=vq_cfg, \n",
    "                              tf_config=tf_config,\n",
    "                              vq_ckpt=vq_checkpoint,\n",
    "                              name=\"rand-tf-8\",\n",
    "                              batch_size=3,\n",
    "                              n_epochs=40,\n",
    "                              save_epoch_frequency=10,\n",
    "                              nepochs_decay=5)\n",
    "\n",
    "model = RandTransformerModel()\n",
    "model.initialize(options)\n",
    "visualizer = Visualizer(options)"
   ]
  },
  {
   "cell_type": "code",
   "execution_count": 75,
   "metadata": {},
   "outputs": [],
   "source": [
    "root_folder = \"..\"\n",
    "num_works = os.cpu_count()\n",
    "shape_dir = f\"{root_folder}/{DATA_SET_PATH}\"\n",
    "full_dataset_path = f\"{root_folder}/{FULL_DATA_SET_PATH}\"\n",
    "dataset = ShapeNetZSets(shape_dir, cat=\"chairs\",max_data_set_size=10)\n",
    "train_ds, test_ds = torch.utils.data.random_split(\n",
    "    dataset, [0.9, 0.1])\n",
    "\n",
    "train_dl =  DataLoader(\n",
    "            train_ds,\n",
    "            batch_size=options.batch_size,\n",
    "            shuffle=False,\n",
    "            drop_last=True,\n",
    "            num_workers=0)\n",
    "\n",
    "test_dl =  DataLoader(\n",
    "            test_ds,\n",
    "            batch_size=options.batch_size,\n",
    "            shuffle=False,\n",
    "            drop_last=False,\n",
    "            num_workers=0)\n",
    "\n"
   ]
  },
  {
   "cell_type": "code",
   "execution_count": 76,
   "metadata": {},
   "outputs": [
    {
     "name": "stdout",
     "output_type": "stream",
     "text": [
      "[*] # training images = 9\n",
      "[*] # testing images = 1\n"
     ]
    }
   ],
   "source": [
    "def get_data_generator(loader):\n",
    "    while True:\n",
    "        for data in loader:\n",
    "            yield data\n",
    "\n",
    "test_dg = get_data_generator(test_ds)\n",
    "dataset_size = len(train_ds)\n",
    "\n",
    "\n",
    "cprint('[*] # training images = %d' % len(train_ds), 'yellow')\n",
    "cprint('[*] # testing images = %d' % len(test_ds), 'yellow')\n"
   ]
  },
  {
   "cell_type": "code",
   "execution_count": 77,
   "metadata": {},
   "outputs": [
    {
     "name": "stdout",
     "output_type": "stream",
     "text": [
      "[*] Using pytorch's profiler...\n"
     ]
    }
   ],
   "source": [
    "cprint(\"[*] Using pytorch's profiler...\", 'blue')\n",
    "tensorboard_trace_handler = profiler.tensorboard_trace_handler(options.tb_dir)\n",
    "schedule_args = {'wait': 2, 'warmup': 2, 'active': 6, 'repeat': 1}\n"
   ]
  },
  {
   "cell_type": "code",
   "execution_count": 78,
   "metadata": {},
   "outputs": [],
   "source": [
    "schedule = profiler.schedule(**schedule_args)\n",
    "activities = [profiler.ProfilerActivity.CPU, profiler.ProfilerActivity.CUDA]\n",
    "\n"
   ]
  },
  {
   "cell_type": "code",
   "execution_count": 79,
   "metadata": {},
   "outputs": [],
   "source": [
    "\n",
    "def train_one_epoch(pt_profiler=None,epoch=0):\n",
    "    global total_steps\n",
    "\n",
    "    epoch_iter = 0\n",
    "    for i, data in tqdm(enumerate(train_dl), total=len(train_dl)):\n",
    "        iter_start_time = time.time()\n",
    "        visualizer.reset()\n",
    "        total_steps += options.batch_size\n",
    "        epoch_iter += options.batch_size\n",
    "        model.set_input(data)\n",
    "\n",
    "        model.optimize_parameters(total_steps)\n",
    "\n",
    "        nBatches_has_trained = total_steps // options.batch_size\n",
    "        # if total_steps % options.print_freq == 0:\n",
    "        if nBatches_has_trained % options.print_freq == 0:\n",
    "            errors =model.get_current_errors()\n",
    "\n",
    "            t = (time.time() - iter_start_time) / options.batch_size\n",
    "            visualizer.print_current_errors(\n",
    "                epoch, epoch_iter, total_steps, errors, t)\n",
    "\n",
    "        # if (nBatches_has_trained % options.display_freq == 0) or i == 0:\n",
    "        #     # eval\n",
    "        #     model.inference(data)\n",
    "        #     visualizer.display_current_results(\n",
    "        #        model.get_current_visuals(), total_steps, phase='train')\n",
    "\n",
    "        #     #model.set_input(next(test_dg))\n",
    "        #     test_data = next(test_dg)\n",
    "        #     model.inference(test_data.unsqueeze(0))\n",
    "        #     visualizer.display_current_results(\n",
    "        #        model.get_current_visuals(), total_steps, phase='test')\n",
    "\n",
    "        if total_steps % options.save_latest_freq == 0:\n",
    "            cprint('saving the latestmodel (epoch %d, total_steps %d)' %\n",
    "                   (epoch, total_steps), 'blue')\n",
    "            latest_name = f'epoch-latest'\n",
    "            model.save(latest_name)\n",
    "\n",
    "        if pt_profiler is not None:\n",
    "            pt_profiler.step()"
   ]
  },
  {
   "cell_type": "code",
   "execution_count": 81,
   "metadata": {},
   "outputs": [
    {
     "name": "stdout",
     "output_type": "stream",
     "text": [
      "[*] Start training. name: rand-tf-8\n"
     ]
    },
    {
     "name": "stderr",
     "output_type": "stream",
     "text": [
      " 33%|███▎      | 1/3 [00:05<00:10,  5.14s/it]"
     ]
    },
    {
     "name": "stdout",
     "output_type": "stream",
     "text": [
      "(GPU: , epoch: 0, iters: 3, time: 1.707) nll: 6.054970 \n"
     ]
    },
    {
     "name": "stderr",
     "output_type": "stream",
     "text": [
      "c:\\Python310\\lib\\site-packages\\torch\\autograd\\profiler.py:176: UserWarning: CUDA is not available, disabling CUDA profiling\n",
      "  warn(\"CUDA is not available, disabling CUDA profiling\")\n",
      " 67%|██████▋   | 2/3 [00:10<00:05,  5.32s/it]"
     ]
    },
    {
     "name": "stdout",
     "output_type": "stream",
     "text": [
      "(GPU: , epoch: 0, iters: 6, time: 1.806) nll: 4.444655 \n"
     ]
    },
    {
     "name": "stderr",
     "output_type": "stream",
     "text": [
      "100%|██████████| 3/3 [00:16<00:00,  5.39s/it]"
     ]
    },
    {
     "name": "stdout",
     "output_type": "stream",
     "text": [
      "(GPU: , epoch: 0, iters: 9, time: 1.848) nll: 2.739460 \n",
      "saving the model at the end of epoch 0, iters 9\n"
     ]
    },
    {
     "name": "stderr",
     "output_type": "stream",
     "text": [
      "\n"
     ]
    },
    {
     "name": "stdout",
     "output_type": "stream",
     "text": [
      "([test] GPU: , epoch: 0) iou: 0.000 iou_std: 0.000 \n",
      "OrderedDict([('iou', 0.0), ('iou_std', 0.0)])\n",
      "[*] End of epoch 0 / 45 \t Time Taken: 17 sec \n",
      "c:\\Users\\Youssef\\Repos\\TUM\\SS23\\Advanced Deep learning\\ADL4CV\\Project\\src\\transformer\\raw_dataset\\logs\\rand-tf-8\n",
      "[*] learning rate = 0.0001000\n"
     ]
    },
    {
     "name": "stderr",
     "output_type": "stream",
     "text": [
      " 33%|███▎      | 1/3 [00:05<00:10,  5.43s/it]"
     ]
    },
    {
     "name": "stdout",
     "output_type": "stream",
     "text": [
      "(GPU: , epoch: 1, iters: 3, time: 1.799) nll: 2.226965 \n"
     ]
    },
    {
     "name": "stderr",
     "output_type": "stream",
     "text": [
      " 67%|██████▋   | 2/3 [00:11<00:05,  5.52s/it]"
     ]
    },
    {
     "name": "stdout",
     "output_type": "stream",
     "text": [
      "(GPU: , epoch: 1, iters: 6, time: 1.855) nll: 3.436987 \n"
     ]
    },
    {
     "name": "stderr",
     "output_type": "stream",
     "text": [
      "100%|██████████| 3/3 [00:17<00:00,  5.73s/it]\n"
     ]
    },
    {
     "name": "stdout",
     "output_type": "stream",
     "text": [
      "(GPU: , epoch: 1, iters: 9, time: 2.048) nll: 2.257060 \n",
      "[*] End of epoch 1 / 45 \t Time Taken: 17 sec \n",
      "c:\\Users\\Youssef\\Repos\\TUM\\SS23\\Advanced Deep learning\\ADL4CV\\Project\\src\\transformer\\raw_dataset\\logs\\rand-tf-8\n",
      "[*] learning rate = 0.0001000\n"
     ]
    },
    {
     "name": "stderr",
     "output_type": "stream",
     "text": [
      " 33%|███▎      | 1/3 [00:06<00:12,  6.33s/it]"
     ]
    },
    {
     "name": "stdout",
     "output_type": "stream",
     "text": [
      "(GPU: , epoch: 2, iters: 3, time: 2.102) nll: 1.947697 \n"
     ]
    },
    {
     "name": "stderr",
     "output_type": "stream",
     "text": [
      " 67%|██████▋   | 2/3 [00:11<00:05,  5.73s/it]"
     ]
    },
    {
     "name": "stdout",
     "output_type": "stream",
     "text": [
      "(GPU: , epoch: 2, iters: 6, time: 1.762) nll: 2.741643 \n"
     ]
    },
    {
     "name": "stderr",
     "output_type": "stream",
     "text": [
      "100%|██████████| 3/3 [00:16<00:00,  5.60s/it]\n"
     ]
    },
    {
     "name": "stdout",
     "output_type": "stream",
     "text": [
      "(GPU: , epoch: 2, iters: 9, time: 1.718) nll: 2.021697 \n",
      "[*] End of epoch 2 / 45 \t Time Taken: 16 sec \n",
      "c:\\Users\\Youssef\\Repos\\TUM\\SS23\\Advanced Deep learning\\ADL4CV\\Project\\src\\transformer\\raw_dataset\\logs\\rand-tf-8\n",
      "[*] learning rate = 0.0001000\n"
     ]
    },
    {
     "name": "stderr",
     "output_type": "stream",
     "text": [
      " 33%|███▎      | 1/3 [00:05<00:10,  5.20s/it]"
     ]
    },
    {
     "name": "stdout",
     "output_type": "stream",
     "text": [
      "(GPU: , epoch: 3, iters: 3, time: 1.726) nll: 1.790607 \n"
     ]
    },
    {
     "name": "stderr",
     "output_type": "stream",
     "text": [
      " 67%|██████▋   | 2/3 [00:10<00:05,  5.23s/it]"
     ]
    },
    {
     "name": "stdout",
     "output_type": "stream",
     "text": [
      "(GPU: , epoch: 3, iters: 6, time: 1.746) nll: 2.421084 \n"
     ]
    },
    {
     "name": "stderr",
     "output_type": "stream",
     "text": [
      "100%|██████████| 3/3 [00:15<00:00,  5.32s/it]\n"
     ]
    },
    {
     "name": "stdout",
     "output_type": "stream",
     "text": [
      "(GPU: , epoch: 3, iters: 9, time: 1.822) nll: 1.774522 \n",
      "[*] End of epoch 3 / 45 \t Time Taken: 16 sec \n",
      "c:\\Users\\Youssef\\Repos\\TUM\\SS23\\Advanced Deep learning\\ADL4CV\\Project\\src\\transformer\\raw_dataset\\logs\\rand-tf-8\n",
      "[*] learning rate = 0.0001000\n"
     ]
    },
    {
     "name": "stderr",
     "output_type": "stream",
     "text": [
      " 33%|███▎      | 1/3 [00:05<00:11,  5.71s/it]"
     ]
    },
    {
     "name": "stdout",
     "output_type": "stream",
     "text": [
      "(GPU: , epoch: 4, iters: 3, time: 1.886) nll: 1.676854 \n"
     ]
    },
    {
     "name": "stderr",
     "output_type": "stream",
     "text": [
      " 67%|██████▋   | 2/3 [00:10<00:05,  5.43s/it]"
     ]
    },
    {
     "name": "stdout",
     "output_type": "stream",
     "text": [
      "(GPU: , epoch: 4, iters: 6, time: 1.737) nll: 2.220636 \n"
     ]
    },
    {
     "name": "stderr",
     "output_type": "stream",
     "text": [
      "100%|██████████| 3/3 [00:16<00:00,  5.38s/it]\n"
     ]
    },
    {
     "name": "stdout",
     "output_type": "stream",
     "text": [
      "(GPU: , epoch: 4, iters: 9, time: 1.725) nll: 1.675983 \n",
      "[*] End of epoch 4 / 45 \t Time Taken: 16 sec \n",
      "c:\\Users\\Youssef\\Repos\\TUM\\SS23\\Advanced Deep learning\\ADL4CV\\Project\\src\\transformer\\raw_dataset\\logs\\rand-tf-8\n",
      "[*] learning rate = 0.0001000\n"
     ]
    },
    {
     "name": "stderr",
     "output_type": "stream",
     "text": [
      " 33%|███▎      | 1/3 [00:05<00:10,  5.37s/it]"
     ]
    },
    {
     "name": "stdout",
     "output_type": "stream",
     "text": [
      "(GPU: , epoch: 5, iters: 3, time: 1.783) nll: 1.634214 \n"
     ]
    },
    {
     "name": "stderr",
     "output_type": "stream",
     "text": [
      " 67%|██████▋   | 2/3 [00:10<00:05,  5.28s/it]"
     ]
    },
    {
     "name": "stdout",
     "output_type": "stream",
     "text": [
      "(GPU: , epoch: 5, iters: 6, time: 1.734) nll: 2.014330 \n"
     ]
    },
    {
     "name": "stderr",
     "output_type": "stream",
     "text": [
      "100%|██████████| 3/3 [00:15<00:00,  5.27s/it]\n"
     ]
    },
    {
     "name": "stdout",
     "output_type": "stream",
     "text": [
      "(GPU: , epoch: 5, iters: 9, time: 1.728) nll: 1.650917 \n",
      "[*] End of epoch 5 / 45 \t Time Taken: 15 sec \n",
      "c:\\Users\\Youssef\\Repos\\TUM\\SS23\\Advanced Deep learning\\ADL4CV\\Project\\src\\transformer\\raw_dataset\\logs\\rand-tf-8\n",
      "[*] learning rate = 0.0001000\n"
     ]
    },
    {
     "name": "stderr",
     "output_type": "stream",
     "text": [
      " 33%|███▎      | 1/3 [00:05<00:10,  5.27s/it]"
     ]
    },
    {
     "name": "stdout",
     "output_type": "stream",
     "text": [
      "(GPU: , epoch: 6, iters: 3, time: 1.749) nll: 1.522896 \n"
     ]
    },
    {
     "name": "stderr",
     "output_type": "stream",
     "text": [
      " 67%|██████▋   | 2/3 [00:10<00:05,  5.21s/it]"
     ]
    },
    {
     "name": "stdout",
     "output_type": "stream",
     "text": [
      "(GPU: , epoch: 6, iters: 6, time: 1.717) nll: 2.000646 \n"
     ]
    },
    {
     "name": "stderr",
     "output_type": "stream",
     "text": [
      "100%|██████████| 3/3 [00:16<00:00,  5.35s/it]\n"
     ]
    },
    {
     "name": "stdout",
     "output_type": "stream",
     "text": [
      "(GPU: , epoch: 6, iters: 9, time: 1.860) nll: 1.557756 \n",
      "[*] End of epoch 6 / 45 \t Time Taken: 16 sec \n",
      "c:\\Users\\Youssef\\Repos\\TUM\\SS23\\Advanced Deep learning\\ADL4CV\\Project\\src\\transformer\\raw_dataset\\logs\\rand-tf-8\n",
      "[*] learning rate = 0.0001000\n"
     ]
    },
    {
     "name": "stderr",
     "output_type": "stream",
     "text": [
      " 33%|███▎      | 1/3 [00:05<00:10,  5.43s/it]"
     ]
    },
    {
     "name": "stdout",
     "output_type": "stream",
     "text": [
      "(GPU: , epoch: 7, iters: 3, time: 1.800) nll: 1.424364 \n"
     ]
    },
    {
     "name": "stderr",
     "output_type": "stream",
     "text": [
      " 67%|██████▋   | 2/3 [00:10<00:05,  5.38s/it]"
     ]
    },
    {
     "name": "stdout",
     "output_type": "stream",
     "text": [
      "(GPU: , epoch: 7, iters: 6, time: 1.777) nll: 1.979942 \n"
     ]
    },
    {
     "name": "stderr",
     "output_type": "stream",
     "text": [
      "100%|██████████| 3/3 [00:16<00:00,  5.42s/it]\n"
     ]
    },
    {
     "name": "stdout",
     "output_type": "stream",
     "text": [
      "(GPU: , epoch: 7, iters: 9, time: 1.822) nll: 1.499525 \n",
      "[*] End of epoch 7 / 45 \t Time Taken: 16 sec \n",
      "c:\\Users\\Youssef\\Repos\\TUM\\SS23\\Advanced Deep learning\\ADL4CV\\Project\\src\\transformer\\raw_dataset\\logs\\rand-tf-8\n",
      "[*] learning rate = 0.0001000\n"
     ]
    },
    {
     "name": "stderr",
     "output_type": "stream",
     "text": [
      " 33%|███▎      | 1/3 [00:05<00:11,  5.98s/it]"
     ]
    },
    {
     "name": "stdout",
     "output_type": "stream",
     "text": [
      "(GPU: , epoch: 8, iters: 3, time: 1.984) nll: 1.420005 \n"
     ]
    },
    {
     "name": "stderr",
     "output_type": "stream",
     "text": [
      " 67%|██████▋   | 2/3 [00:11<00:05,  5.78s/it]"
     ]
    },
    {
     "name": "stdout",
     "output_type": "stream",
     "text": [
      "(GPU: , epoch: 8, iters: 6, time: 1.875) nll: 1.864365 \n"
     ]
    },
    {
     "name": "stderr",
     "output_type": "stream",
     "text": [
      "100%|██████████| 3/3 [00:17<00:00,  5.72s/it]\n"
     ]
    },
    {
     "name": "stdout",
     "output_type": "stream",
     "text": [
      "(GPU: , epoch: 8, iters: 9, time: 1.832) nll: 1.477830 \n",
      "[*] End of epoch 8 / 45 \t Time Taken: 17 sec \n",
      "c:\\Users\\Youssef\\Repos\\TUM\\SS23\\Advanced Deep learning\\ADL4CV\\Project\\src\\transformer\\raw_dataset\\logs\\rand-tf-8\n",
      "[*] learning rate = 0.0001000\n"
     ]
    },
    {
     "name": "stderr",
     "output_type": "stream",
     "text": [
      " 33%|███▎      | 1/3 [00:05<00:10,  5.25s/it]"
     ]
    },
    {
     "name": "stdout",
     "output_type": "stream",
     "text": [
      "(GPU: , epoch: 9, iters: 3, time: 1.743) nll: 1.385185 \n"
     ]
    },
    {
     "name": "stderr",
     "output_type": "stream",
     "text": [
      " 67%|██████▋   | 2/3 [00:11<00:05,  5.65s/it]"
     ]
    },
    {
     "name": "stdout",
     "output_type": "stream",
     "text": [
      "(GPU: , epoch: 9, iters: 6, time: 1.970) nll: 1.803538 \n"
     ]
    },
    {
     "name": "stderr",
     "output_type": "stream",
     "text": [
      "100%|██████████| 3/3 [00:16<00:00,  5.57s/it]\n"
     ]
    },
    {
     "name": "stdout",
     "output_type": "stream",
     "text": [
      "(GPU: , epoch: 9, iters: 9, time: 1.833) nll: 1.459139 \n",
      "[*] End of epoch 9 / 45 \t Time Taken: 16 sec \n",
      "c:\\Users\\Youssef\\Repos\\TUM\\SS23\\Advanced Deep learning\\ADL4CV\\Project\\src\\transformer\\raw_dataset\\logs\\rand-tf-8\n",
      "[*] learning rate = 0.0001000\n"
     ]
    },
    {
     "name": "stderr",
     "output_type": "stream",
     "text": [
      " 33%|███▎      | 1/3 [00:05<00:10,  5.49s/it]"
     ]
    },
    {
     "name": "stdout",
     "output_type": "stream",
     "text": [
      "(GPU: , epoch: 10, iters: 3, time: 1.815) nll: 1.326331 \n"
     ]
    },
    {
     "name": "stderr",
     "output_type": "stream",
     "text": [
      " 67%|██████▋   | 2/3 [00:10<00:05,  5.47s/it]"
     ]
    },
    {
     "name": "stdout",
     "output_type": "stream",
     "text": [
      "(GPU: , epoch: 10, iters: 6, time: 1.804) nll: 1.846541 \n"
     ]
    },
    {
     "name": "stderr",
     "output_type": "stream",
     "text": [
      "100%|██████████| 3/3 [00:16<00:00,  5.42s/it]"
     ]
    },
    {
     "name": "stdout",
     "output_type": "stream",
     "text": [
      "(GPU: , epoch: 10, iters: 9, time: 1.768) nll: 1.427710 \n",
      "saving the model at the end of epoch 10, iters 99\n"
     ]
    },
    {
     "name": "stderr",
     "output_type": "stream",
     "text": [
      "\n"
     ]
    },
    {
     "name": "stdout",
     "output_type": "stream",
     "text": [
      "([test] GPU: , epoch: 10) iou: 0.000 iou_std: 0.000 \n",
      "OrderedDict([('iou', 0.0), ('iou_std', 0.0)])\n",
      "[*] End of epoch 10 / 45 \t Time Taken: 16 sec \n",
      "c:\\Users\\Youssef\\Repos\\TUM\\SS23\\Advanced Deep learning\\ADL4CV\\Project\\src\\transformer\\raw_dataset\\logs\\rand-tf-8\n",
      "[*] learning rate = 0.0001000\n"
     ]
    },
    {
     "name": "stderr",
     "output_type": "stream",
     "text": [
      " 33%|███▎      | 1/3 [00:05<00:10,  5.22s/it]"
     ]
    },
    {
     "name": "stdout",
     "output_type": "stream",
     "text": [
      "(GPU: , epoch: 11, iters: 3, time: 1.732) nll: 1.326146 \n"
     ]
    },
    {
     "name": "stderr",
     "output_type": "stream",
     "text": [
      " 67%|██████▋   | 2/3 [00:10<00:05,  5.23s/it]"
     ]
    },
    {
     "name": "stdout",
     "output_type": "stream",
     "text": [
      "(GPU: , epoch: 11, iters: 6, time: 1.742) nll: 1.809504 \n"
     ]
    },
    {
     "name": "stderr",
     "output_type": "stream",
     "text": [
      "100%|██████████| 3/3 [00:15<00:00,  5.23s/it]\n"
     ]
    },
    {
     "name": "stdout",
     "output_type": "stream",
     "text": [
      "(GPU: , epoch: 11, iters: 9, time: 1.734) nll: 1.411331 \n",
      "[*] End of epoch 11 / 45 \t Time Taken: 15 sec \n",
      "c:\\Users\\Youssef\\Repos\\TUM\\SS23\\Advanced Deep learning\\ADL4CV\\Project\\src\\transformer\\raw_dataset\\logs\\rand-tf-8\n",
      "[*] learning rate = 0.0001000\n"
     ]
    },
    {
     "name": "stderr",
     "output_type": "stream",
     "text": [
      " 33%|███▎      | 1/3 [00:05<00:10,  5.34s/it]"
     ]
    },
    {
     "name": "stdout",
     "output_type": "stream",
     "text": [
      "(GPU: , epoch: 12, iters: 3, time: 1.773) nll: 1.357559 \n"
     ]
    },
    {
     "name": "stderr",
     "output_type": "stream",
     "text": [
      " 67%|██████▋   | 2/3 [00:10<00:05,  5.34s/it]"
     ]
    },
    {
     "name": "stdout",
     "output_type": "stream",
     "text": [
      "(GPU: , epoch: 12, iters: 6, time: 1.774) nll: 1.783175 \n"
     ]
    },
    {
     "name": "stderr",
     "output_type": "stream",
     "text": [
      "100%|██████████| 3/3 [00:16<00:00,  5.34s/it]\n"
     ]
    },
    {
     "name": "stdout",
     "output_type": "stream",
     "text": [
      "(GPU: , epoch: 12, iters: 9, time: 1.767) nll: 1.457792 \n",
      "[*] End of epoch 12 / 45 \t Time Taken: 16 sec \n",
      "c:\\Users\\Youssef\\Repos\\TUM\\SS23\\Advanced Deep learning\\ADL4CV\\Project\\src\\transformer\\raw_dataset\\logs\\rand-tf-8\n",
      "[*] learning rate = 0.0001000\n"
     ]
    },
    {
     "name": "stderr",
     "output_type": "stream",
     "text": [
      " 33%|███▎      | 1/3 [00:05<00:10,  5.18s/it]"
     ]
    },
    {
     "name": "stdout",
     "output_type": "stream",
     "text": [
      "(GPU: , epoch: 13, iters: 3, time: 1.718) nll: 1.321041 \n"
     ]
    },
    {
     "name": "stderr",
     "output_type": "stream",
     "text": [
      " 67%|██████▋   | 2/3 [00:10<00:05,  5.32s/it]"
     ]
    },
    {
     "name": "stdout",
     "output_type": "stream",
     "text": [
      "(GPU: , epoch: 13, iters: 6, time: 1.798) nll: 1.791965 \n"
     ]
    },
    {
     "name": "stderr",
     "output_type": "stream",
     "text": [
      "100%|██████████| 3/3 [00:16<00:00,  5.42s/it]\n"
     ]
    },
    {
     "name": "stdout",
     "output_type": "stream",
     "text": [
      "(GPU: , epoch: 13, iters: 9, time: 1.882) nll: 1.422494 \n",
      "[*] End of epoch 13 / 45 \t Time Taken: 16 sec \n",
      "c:\\Users\\Youssef\\Repos\\TUM\\SS23\\Advanced Deep learning\\ADL4CV\\Project\\src\\transformer\\raw_dataset\\logs\\rand-tf-8\n",
      "[*] learning rate = 0.0001000\n"
     ]
    },
    {
     "name": "stderr",
     "output_type": "stream",
     "text": [
      " 33%|███▎      | 1/3 [00:05<00:11,  5.62s/it]"
     ]
    },
    {
     "name": "stdout",
     "output_type": "stream",
     "text": [
      "(GPU: , epoch: 14, iters: 3, time: 1.841) nll: 1.264174 \n"
     ]
    },
    {
     "name": "stderr",
     "output_type": "stream",
     "text": [
      " 67%|██████▋   | 2/3 [00:10<00:05,  5.45s/it]"
     ]
    },
    {
     "name": "stdout",
     "output_type": "stream",
     "text": [
      "(GPU: , epoch: 14, iters: 6, time: 1.772) nll: 1.798386 \n"
     ]
    },
    {
     "name": "stderr",
     "output_type": "stream",
     "text": [
      "100%|██████████| 3/3 [00:16<00:00,  5.49s/it]\n"
     ]
    },
    {
     "name": "stdout",
     "output_type": "stream",
     "text": [
      "(GPU: , epoch: 14, iters: 9, time: 1.827) nll: 1.382746 \n",
      "[*] End of epoch 14 / 45 \t Time Taken: 16 sec \n",
      "c:\\Users\\Youssef\\Repos\\TUM\\SS23\\Advanced Deep learning\\ADL4CV\\Project\\src\\transformer\\raw_dataset\\logs\\rand-tf-8\n",
      "[*] learning rate = 0.0001000\n"
     ]
    },
    {
     "name": "stderr",
     "output_type": "stream",
     "text": [
      " 33%|███▎      | 1/3 [00:06<00:12,  6.05s/it]"
     ]
    },
    {
     "name": "stdout",
     "output_type": "stream",
     "text": [
      "(GPU: , epoch: 15, iters: 3, time: 2.005) nll: 1.353597 \n"
     ]
    },
    {
     "name": "stderr",
     "output_type": "stream",
     "text": [
      " 67%|██████▋   | 2/3 [00:12<00:06,  6.03s/it]"
     ]
    },
    {
     "name": "stdout",
     "output_type": "stream",
     "text": [
      "(GPU: , epoch: 15, iters: 6, time: 2.000) nll: 1.740574 \n"
     ]
    },
    {
     "name": "stderr",
     "output_type": "stream",
     "text": [
      "100%|██████████| 3/3 [00:17<00:00,  5.87s/it]\n"
     ]
    },
    {
     "name": "stdout",
     "output_type": "stream",
     "text": [
      "(GPU: , epoch: 15, iters: 9, time: 1.839) nll: 1.386112 \n",
      "[*] End of epoch 15 / 45 \t Time Taken: 17 sec \n",
      "c:\\Users\\Youssef\\Repos\\TUM\\SS23\\Advanced Deep learning\\ADL4CV\\Project\\src\\transformer\\raw_dataset\\logs\\rand-tf-8\n",
      "[*] learning rate = 0.0001000\n"
     ]
    },
    {
     "name": "stderr",
     "output_type": "stream",
     "text": [
      " 33%|███▎      | 1/3 [00:05<00:10,  5.07s/it]"
     ]
    },
    {
     "name": "stdout",
     "output_type": "stream",
     "text": [
      "(GPU: , epoch: 16, iters: 3, time: 1.683) nll: 1.322881 \n"
     ]
    },
    {
     "name": "stderr",
     "output_type": "stream",
     "text": [
      " 67%|██████▋   | 2/3 [00:10<00:05,  5.10s/it]"
     ]
    },
    {
     "name": "stdout",
     "output_type": "stream",
     "text": [
      "(GPU: , epoch: 16, iters: 6, time: 1.698) nll: 1.819133 \n"
     ]
    },
    {
     "name": "stderr",
     "output_type": "stream",
     "text": [
      "100%|██████████| 3/3 [00:15<00:00,  5.08s/it]\n"
     ]
    },
    {
     "name": "stdout",
     "output_type": "stream",
     "text": [
      "(GPU: , epoch: 16, iters: 9, time: 1.679) nll: 1.396666 \n",
      "[*] End of epoch 16 / 45 \t Time Taken: 15 sec \n",
      "c:\\Users\\Youssef\\Repos\\TUM\\SS23\\Advanced Deep learning\\ADL4CV\\Project\\src\\transformer\\raw_dataset\\logs\\rand-tf-8\n",
      "[*] learning rate = 0.0001000\n"
     ]
    },
    {
     "name": "stderr",
     "output_type": "stream",
     "text": [
      " 33%|███▎      | 1/3 [00:05<00:10,  5.08s/it]"
     ]
    },
    {
     "name": "stdout",
     "output_type": "stream",
     "text": [
      "(GPU: , epoch: 17, iters: 3, time: 1.684) nll: 1.297654 \n"
     ]
    },
    {
     "name": "stderr",
     "output_type": "stream",
     "text": [
      " 67%|██████▋   | 2/3 [00:10<00:05,  5.10s/it]"
     ]
    },
    {
     "name": "stdout",
     "output_type": "stream",
     "text": [
      "(GPU: , epoch: 17, iters: 6, time: 1.699) nll: 1.751726 \n"
     ]
    },
    {
     "name": "stderr",
     "output_type": "stream",
     "text": [
      "100%|██████████| 3/3 [00:15<00:00,  5.13s/it]\n"
     ]
    },
    {
     "name": "stdout",
     "output_type": "stream",
     "text": [
      "(GPU: , epoch: 17, iters: 9, time: 1.721) nll: 1.387437 \n",
      "[*] End of epoch 17 / 45 \t Time Taken: 15 sec \n",
      "c:\\Users\\Youssef\\Repos\\TUM\\SS23\\Advanced Deep learning\\ADL4CV\\Project\\src\\transformer\\raw_dataset\\logs\\rand-tf-8\n",
      "[*] learning rate = 0.0001000\n"
     ]
    },
    {
     "name": "stderr",
     "output_type": "stream",
     "text": [
      " 33%|███▎      | 1/3 [00:05<00:10,  5.13s/it]"
     ]
    },
    {
     "name": "stdout",
     "output_type": "stream",
     "text": [
      "(GPU: , epoch: 18, iters: 3, time: 1.701) nll: 1.338817 \n"
     ]
    },
    {
     "name": "stderr",
     "output_type": "stream",
     "text": [
      " 67%|██████▋   | 2/3 [00:10<00:05,  5.39s/it]"
     ]
    },
    {
     "name": "stdout",
     "output_type": "stream",
     "text": [
      "(GPU: , epoch: 18, iters: 6, time: 1.855) nll: 1.749840 \n"
     ]
    },
    {
     "name": "stderr",
     "output_type": "stream",
     "text": [
      "100%|██████████| 3/3 [00:15<00:00,  5.32s/it]\n"
     ]
    },
    {
     "name": "stdout",
     "output_type": "stream",
     "text": [
      "(GPU: , epoch: 18, iters: 9, time: 1.741) nll: 1.392323 \n",
      "[*] End of epoch 18 / 45 \t Time Taken: 15 sec \n",
      "c:\\Users\\Youssef\\Repos\\TUM\\SS23\\Advanced Deep learning\\ADL4CV\\Project\\src\\transformer\\raw_dataset\\logs\\rand-tf-8\n",
      "[*] learning rate = 0.0001000\n"
     ]
    },
    {
     "name": "stderr",
     "output_type": "stream",
     "text": [
      " 33%|███▎      | 1/3 [00:05<00:10,  5.23s/it]"
     ]
    },
    {
     "name": "stdout",
     "output_type": "stream",
     "text": [
      "(GPU: , epoch: 19, iters: 3, time: 1.735) nll: 1.356227 \n"
     ]
    },
    {
     "name": "stderr",
     "output_type": "stream",
     "text": [
      " 67%|██████▋   | 2/3 [00:10<00:05,  5.22s/it]"
     ]
    },
    {
     "name": "stdout",
     "output_type": "stream",
     "text": [
      "(GPU: , epoch: 19, iters: 6, time: 1.732) nll: 1.696576 \n"
     ]
    },
    {
     "name": "stderr",
     "output_type": "stream",
     "text": [
      "100%|██████████| 3/3 [00:15<00:00,  5.21s/it]\n"
     ]
    },
    {
     "name": "stdout",
     "output_type": "stream",
     "text": [
      "(GPU: , epoch: 19, iters: 9, time: 1.724) nll: 1.391971 \n",
      "[*] End of epoch 19 / 45 \t Time Taken: 15 sec \n",
      "c:\\Users\\Youssef\\Repos\\TUM\\SS23\\Advanced Deep learning\\ADL4CV\\Project\\src\\transformer\\raw_dataset\\logs\\rand-tf-8\n",
      "[*] learning rate = 0.0001000\n"
     ]
    },
    {
     "name": "stderr",
     "output_type": "stream",
     "text": [
      " 33%|███▎      | 1/3 [00:05<00:10,  5.23s/it]"
     ]
    },
    {
     "name": "stdout",
     "output_type": "stream",
     "text": [
      "(GPU: , epoch: 20, iters: 3, time: 1.737) nll: 1.298284 \n"
     ]
    },
    {
     "name": "stderr",
     "output_type": "stream",
     "text": [
      " 67%|██████▋   | 2/3 [00:10<00:05,  5.17s/it]"
     ]
    },
    {
     "name": "stdout",
     "output_type": "stream",
     "text": [
      "(GPU: , epoch: 20, iters: 6, time: 1.701) nll: 1.710147 \n"
     ]
    },
    {
     "name": "stderr",
     "output_type": "stream",
     "text": [
      "100%|██████████| 3/3 [00:15<00:00,  5.15s/it]"
     ]
    },
    {
     "name": "stdout",
     "output_type": "stream",
     "text": [
      "(GPU: , epoch: 20, iters: 9, time: 1.692) nll: 1.398688 \n",
      "saving the model at the end of epoch 20, iters 189\n"
     ]
    },
    {
     "name": "stderr",
     "output_type": "stream",
     "text": [
      "\n"
     ]
    },
    {
     "name": "stdout",
     "output_type": "stream",
     "text": [
      "([test] GPU: , epoch: 20) iou: 0.000 iou_std: 0.000 \n",
      "OrderedDict([('iou', 0.0), ('iou_std', 0.0)])\n",
      "[*] End of epoch 20 / 45 \t Time Taken: 16 sec \n",
      "c:\\Users\\Youssef\\Repos\\TUM\\SS23\\Advanced Deep learning\\ADL4CV\\Project\\src\\transformer\\raw_dataset\\logs\\rand-tf-8\n",
      "[*] learning rate = 0.0001000\n"
     ]
    },
    {
     "name": "stderr",
     "output_type": "stream",
     "text": [
      " 33%|███▎      | 1/3 [00:05<00:10,  5.40s/it]"
     ]
    },
    {
     "name": "stdout",
     "output_type": "stream",
     "text": [
      "(GPU: , epoch: 21, iters: 3, time: 1.794) nll: 1.300070 \n"
     ]
    },
    {
     "name": "stderr",
     "output_type": "stream",
     "text": [
      " 67%|██████▋   | 2/3 [00:10<00:05,  5.29s/it]"
     ]
    },
    {
     "name": "stdout",
     "output_type": "stream",
     "text": [
      "(GPU: , epoch: 21, iters: 6, time: 1.732) nll: 1.730145 \n"
     ]
    },
    {
     "name": "stderr",
     "output_type": "stream",
     "text": [
      "100%|██████████| 3/3 [00:15<00:00,  5.25s/it]\n"
     ]
    },
    {
     "name": "stdout",
     "output_type": "stream",
     "text": [
      "(GPU: , epoch: 21, iters: 9, time: 1.703) nll: 1.395417 \n",
      "[*] End of epoch 21 / 45 \t Time Taken: 15 sec \n",
      "c:\\Users\\Youssef\\Repos\\TUM\\SS23\\Advanced Deep learning\\ADL4CV\\Project\\src\\transformer\\raw_dataset\\logs\\rand-tf-8\n",
      "[*] learning rate = 0.0001000\n"
     ]
    },
    {
     "name": "stderr",
     "output_type": "stream",
     "text": [
      " 33%|███▎      | 1/3 [00:05<00:10,  5.33s/it]"
     ]
    },
    {
     "name": "stdout",
     "output_type": "stream",
     "text": [
      "(GPU: , epoch: 22, iters: 3, time: 1.769) nll: 1.316080 \n"
     ]
    },
    {
     "name": "stderr",
     "output_type": "stream",
     "text": [
      " 67%|██████▋   | 2/3 [00:10<00:05,  5.27s/it]"
     ]
    },
    {
     "name": "stdout",
     "output_type": "stream",
     "text": [
      "(GPU: , epoch: 22, iters: 6, time: 1.740) nll: 1.821815 \n"
     ]
    },
    {
     "name": "stderr",
     "output_type": "stream",
     "text": [
      "100%|██████████| 3/3 [00:15<00:00,  5.30s/it]\n"
     ]
    },
    {
     "name": "stdout",
     "output_type": "stream",
     "text": [
      "(GPU: , epoch: 22, iters: 9, time: 1.767) nll: 1.355286 \n",
      "[*] End of epoch 22 / 45 \t Time Taken: 15 sec \n",
      "c:\\Users\\Youssef\\Repos\\TUM\\SS23\\Advanced Deep learning\\ADL4CV\\Project\\src\\transformer\\raw_dataset\\logs\\rand-tf-8\n",
      "[*] learning rate = 0.0001000\n"
     ]
    },
    {
     "name": "stderr",
     "output_type": "stream",
     "text": [
      " 33%|███▎      | 1/3 [00:05<00:10,  5.13s/it]"
     ]
    },
    {
     "name": "stdout",
     "output_type": "stream",
     "text": [
      "(GPU: , epoch: 23, iters: 3, time: 1.703) nll: 1.306166 \n"
     ]
    },
    {
     "name": "stderr",
     "output_type": "stream",
     "text": [
      " 67%|██████▋   | 2/3 [00:10<00:05,  5.18s/it]"
     ]
    },
    {
     "name": "stdout",
     "output_type": "stream",
     "text": [
      "(GPU: , epoch: 23, iters: 6, time: 1.731) nll: 1.775763 \n"
     ]
    },
    {
     "name": "stderr",
     "output_type": "stream",
     "text": [
      "100%|██████████| 3/3 [00:15<00:00,  5.15s/it]\n"
     ]
    },
    {
     "name": "stdout",
     "output_type": "stream",
     "text": [
      "(GPU: , epoch: 23, iters: 9, time: 1.693) nll: 1.401218 \n",
      "[*] End of epoch 23 / 45 \t Time Taken: 15 sec \n",
      "c:\\Users\\Youssef\\Repos\\TUM\\SS23\\Advanced Deep learning\\ADL4CV\\Project\\src\\transformer\\raw_dataset\\logs\\rand-tf-8\n",
      "[*] learning rate = 0.0001000\n"
     ]
    },
    {
     "name": "stderr",
     "output_type": "stream",
     "text": [
      " 33%|███▎      | 1/3 [00:05<00:10,  5.49s/it]"
     ]
    },
    {
     "name": "stdout",
     "output_type": "stream",
     "text": [
      "(GPU: , epoch: 24, iters: 3, time: 1.708) nll: 1.325029 \n"
     ]
    },
    {
     "name": "stderr",
     "output_type": "stream",
     "text": [
      " 67%|██████▋   | 2/3 [00:10<00:05,  5.33s/it]"
     ]
    },
    {
     "name": "stdout",
     "output_type": "stream",
     "text": [
      "(GPU: , epoch: 24, iters: 6, time: 1.728) nll: 1.770899 \n"
     ]
    },
    {
     "name": "stderr",
     "output_type": "stream",
     "text": [
      "100%|██████████| 3/3 [00:15<00:00,  5.27s/it]\n"
     ]
    },
    {
     "name": "stdout",
     "output_type": "stream",
     "text": [
      "(GPU: , epoch: 24, iters: 9, time: 1.696) nll: 1.397445 \n",
      "[*] End of epoch 24 / 45 \t Time Taken: 15 sec \n",
      "c:\\Users\\Youssef\\Repos\\TUM\\SS23\\Advanced Deep learning\\ADL4CV\\Project\\src\\transformer\\raw_dataset\\logs\\rand-tf-8\n",
      "[*] learning rate = 0.0001000\n"
     ]
    },
    {
     "name": "stderr",
     "output_type": "stream",
     "text": [
      " 33%|███▎      | 1/3 [00:05<00:10,  5.14s/it]"
     ]
    },
    {
     "name": "stdout",
     "output_type": "stream",
     "text": [
      "(GPU: , epoch: 25, iters: 3, time: 1.706) nll: 1.302287 \n"
     ]
    },
    {
     "name": "stderr",
     "output_type": "stream",
     "text": [
      " 67%|██████▋   | 2/3 [00:10<00:05,  5.35s/it]"
     ]
    },
    {
     "name": "stdout",
     "output_type": "stream",
     "text": [
      "(GPU: , epoch: 25, iters: 6, time: 1.825) nll: 1.684811 \n"
     ]
    },
    {
     "name": "stderr",
     "output_type": "stream",
     "text": [
      "100%|██████████| 3/3 [00:15<00:00,  5.30s/it]\n"
     ]
    },
    {
     "name": "stdout",
     "output_type": "stream",
     "text": [
      "(GPU: , epoch: 25, iters: 9, time: 1.744) nll: 1.414394 \n",
      "[*] End of epoch 25 / 45 \t Time Taken: 15 sec \n",
      "c:\\Users\\Youssef\\Repos\\TUM\\SS23\\Advanced Deep learning\\ADL4CV\\Project\\src\\transformer\\raw_dataset\\logs\\rand-tf-8\n",
      "[*] learning rate = 0.0001000\n"
     ]
    },
    {
     "name": "stderr",
     "output_type": "stream",
     "text": [
      " 33%|███▎      | 1/3 [00:05<00:10,  5.11s/it]"
     ]
    },
    {
     "name": "stdout",
     "output_type": "stream",
     "text": [
      "(GPU: , epoch: 26, iters: 3, time: 1.696) nll: 1.333052 \n"
     ]
    },
    {
     "name": "stderr",
     "output_type": "stream",
     "text": [
      " 67%|██████▋   | 2/3 [00:10<00:05,  5.14s/it]"
     ]
    },
    {
     "name": "stdout",
     "output_type": "stream",
     "text": [
      "(GPU: , epoch: 26, iters: 6, time: 1.714) nll: 1.740034 \n"
     ]
    },
    {
     "name": "stderr",
     "output_type": "stream",
     "text": [
      "100%|██████████| 3/3 [00:15<00:00,  5.19s/it]\n"
     ]
    },
    {
     "name": "stdout",
     "output_type": "stream",
     "text": [
      "(GPU: , epoch: 26, iters: 9, time: 1.762) nll: 1.385301 \n",
      "[*] End of epoch 26 / 45 \t Time Taken: 15 sec \n",
      "c:\\Users\\Youssef\\Repos\\TUM\\SS23\\Advanced Deep learning\\ADL4CV\\Project\\src\\transformer\\raw_dataset\\logs\\rand-tf-8\n",
      "[*] learning rate = 0.0001000\n"
     ]
    },
    {
     "name": "stderr",
     "output_type": "stream",
     "text": [
      " 33%|███▎      | 1/3 [00:05<00:10,  5.27s/it]"
     ]
    },
    {
     "name": "stdout",
     "output_type": "stream",
     "text": [
      "(GPU: , epoch: 27, iters: 3, time: 1.751) nll: 1.311928 \n"
     ]
    },
    {
     "name": "stderr",
     "output_type": "stream",
     "text": [
      " 67%|██████▋   | 2/3 [00:10<00:05,  5.30s/it]"
     ]
    },
    {
     "name": "stdout",
     "output_type": "stream",
     "text": [
      "(GPU: , epoch: 27, iters: 6, time: 1.766) nll: 1.755460 \n"
     ]
    },
    {
     "name": "stderr",
     "output_type": "stream",
     "text": [
      "100%|██████████| 3/3 [00:15<00:00,  5.30s/it]\n"
     ]
    },
    {
     "name": "stdout",
     "output_type": "stream",
     "text": [
      "(GPU: , epoch: 27, iters: 9, time: 1.757) nll: 1.388972 \n",
      "[*] End of epoch 27 / 45 \t Time Taken: 15 sec \n",
      "c:\\Users\\Youssef\\Repos\\TUM\\SS23\\Advanced Deep learning\\ADL4CV\\Project\\src\\transformer\\raw_dataset\\logs\\rand-tf-8\n",
      "[*] learning rate = 0.0001000\n"
     ]
    },
    {
     "name": "stderr",
     "output_type": "stream",
     "text": [
      " 33%|███▎      | 1/3 [00:05<00:10,  5.26s/it]"
     ]
    },
    {
     "name": "stdout",
     "output_type": "stream",
     "text": [
      "(GPU: , epoch: 28, iters: 3, time: 1.747) nll: 1.278348 \n"
     ]
    },
    {
     "name": "stderr",
     "output_type": "stream",
     "text": [
      " 67%|██████▋   | 2/3 [00:10<00:05,  5.23s/it]"
     ]
    },
    {
     "name": "stdout",
     "output_type": "stream",
     "text": [
      "(GPU: , epoch: 28, iters: 6, time: 1.731) nll: 1.696340 \n"
     ]
    },
    {
     "name": "stderr",
     "output_type": "stream",
     "text": [
      "100%|██████████| 3/3 [00:15<00:00,  5.20s/it]\n"
     ]
    },
    {
     "name": "stdout",
     "output_type": "stream",
     "text": [
      "(GPU: , epoch: 28, iters: 9, time: 1.702) nll: 1.369305 \n",
      "[*] End of epoch 28 / 45 \t Time Taken: 15 sec \n",
      "c:\\Users\\Youssef\\Repos\\TUM\\SS23\\Advanced Deep learning\\ADL4CV\\Project\\src\\transformer\\raw_dataset\\logs\\rand-tf-8\n",
      "[*] learning rate = 0.0001000\n"
     ]
    },
    {
     "name": "stderr",
     "output_type": "stream",
     "text": [
      " 33%|███▎      | 1/3 [00:05<00:10,  5.19s/it]"
     ]
    },
    {
     "name": "stdout",
     "output_type": "stream",
     "text": [
      "(GPU: , epoch: 29, iters: 3, time: 1.724) nll: 1.303758 \n"
     ]
    },
    {
     "name": "stderr",
     "output_type": "stream",
     "text": [
      " 67%|██████▋   | 2/3 [00:10<00:05,  5.34s/it]"
     ]
    },
    {
     "name": "stdout",
     "output_type": "stream",
     "text": [
      "(GPU: , epoch: 29, iters: 6, time: 1.809) nll: 1.695104 \n"
     ]
    },
    {
     "name": "stderr",
     "output_type": "stream",
     "text": [
      "100%|██████████| 3/3 [00:15<00:00,  5.27s/it]\n"
     ]
    },
    {
     "name": "stdout",
     "output_type": "stream",
     "text": [
      "(GPU: , epoch: 29, iters: 9, time: 1.711) nll: 1.383082 \n",
      "[*] End of epoch 29 / 45 \t Time Taken: 15 sec \n",
      "c:\\Users\\Youssef\\Repos\\TUM\\SS23\\Advanced Deep learning\\ADL4CV\\Project\\src\\transformer\\raw_dataset\\logs\\rand-tf-8\n",
      "[*] learning rate = 0.0000900\n"
     ]
    },
    {
     "name": "stderr",
     "output_type": "stream",
     "text": [
      " 33%|███▎      | 1/3 [00:05<00:10,  5.06s/it]"
     ]
    },
    {
     "name": "stdout",
     "output_type": "stream",
     "text": [
      "(GPU: , epoch: 30, iters: 3, time: 1.680) nll: 1.285611 \n"
     ]
    },
    {
     "name": "stderr",
     "output_type": "stream",
     "text": [
      " 67%|██████▋   | 2/3 [00:10<00:05,  5.18s/it]"
     ]
    },
    {
     "name": "stdout",
     "output_type": "stream",
     "text": [
      "(GPU: , epoch: 30, iters: 6, time: 1.751) nll: 1.708130 \n"
     ]
    },
    {
     "name": "stderr",
     "output_type": "stream",
     "text": [
      "100%|██████████| 3/3 [00:15<00:00,  5.18s/it]"
     ]
    },
    {
     "name": "stdout",
     "output_type": "stream",
     "text": [
      "(GPU: , epoch: 30, iters: 9, time: 1.724) nll: 1.388712 \n",
      "saving the model at the end of epoch 30, iters 279\n"
     ]
    },
    {
     "name": "stderr",
     "output_type": "stream",
     "text": [
      "\n"
     ]
    },
    {
     "name": "stdout",
     "output_type": "stream",
     "text": [
      "([test] GPU: , epoch: 30) iou: 0.000 iou_std: 0.000 \n",
      "OrderedDict([('iou', 0.0), ('iou_std', 0.0)])\n",
      "[*] End of epoch 30 / 45 \t Time Taken: 16 sec \n",
      "c:\\Users\\Youssef\\Repos\\TUM\\SS23\\Advanced Deep learning\\ADL4CV\\Project\\src\\transformer\\raw_dataset\\logs\\rand-tf-8\n",
      "[*] learning rate = 0.0000900\n"
     ]
    },
    {
     "name": "stderr",
     "output_type": "stream",
     "text": [
      " 33%|███▎      | 1/3 [00:05<00:10,  5.23s/it]"
     ]
    },
    {
     "name": "stdout",
     "output_type": "stream",
     "text": [
      "(GPU: , epoch: 31, iters: 3, time: 1.737) nll: 1.314485 \n"
     ]
    },
    {
     "name": "stderr",
     "output_type": "stream",
     "text": [
      " 67%|██████▋   | 2/3 [00:10<00:05,  5.23s/it]"
     ]
    },
    {
     "name": "stdout",
     "output_type": "stream",
     "text": [
      "(GPU: , epoch: 31, iters: 6, time: 1.736) nll: 1.690112 \n"
     ]
    },
    {
     "name": "stderr",
     "output_type": "stream",
     "text": [
      "100%|██████████| 3/3 [00:15<00:00,  5.22s/it]\n"
     ]
    },
    {
     "name": "stdout",
     "output_type": "stream",
     "text": [
      "(GPU: , epoch: 31, iters: 9, time: 1.721) nll: 1.395480 \n",
      "[*] End of epoch 31 / 45 \t Time Taken: 15 sec \n",
      "c:\\Users\\Youssef\\Repos\\TUM\\SS23\\Advanced Deep learning\\ADL4CV\\Project\\src\\transformer\\raw_dataset\\logs\\rand-tf-8\n",
      "[*] learning rate = 0.0000900\n"
     ]
    },
    {
     "name": "stderr",
     "output_type": "stream",
     "text": [
      " 33%|███▎      | 1/3 [00:05<00:10,  5.25s/it]"
     ]
    },
    {
     "name": "stdout",
     "output_type": "stream",
     "text": [
      "(GPU: , epoch: 32, iters: 3, time: 1.743) nll: 1.281985 \n"
     ]
    },
    {
     "name": "stderr",
     "output_type": "stream",
     "text": [
      " 67%|██████▋   | 2/3 [00:10<00:05,  5.20s/it]"
     ]
    },
    {
     "name": "stdout",
     "output_type": "stream",
     "text": [
      "(GPU: , epoch: 32, iters: 6, time: 1.716) nll: 1.760322 \n"
     ]
    },
    {
     "name": "stderr",
     "output_type": "stream",
     "text": [
      "100%|██████████| 3/3 [00:15<00:00,  5.22s/it]\n"
     ]
    },
    {
     "name": "stdout",
     "output_type": "stream",
     "text": [
      "(GPU: , epoch: 32, iters: 9, time: 1.743) nll: 1.364192 \n",
      "[*] End of epoch 32 / 45 \t Time Taken: 15 sec \n",
      "c:\\Users\\Youssef\\Repos\\TUM\\SS23\\Advanced Deep learning\\ADL4CV\\Project\\src\\transformer\\raw_dataset\\logs\\rand-tf-8\n",
      "[*] learning rate = 0.0000900\n"
     ]
    },
    {
     "name": "stderr",
     "output_type": "stream",
     "text": [
      " 33%|███▎      | 1/3 [00:05<00:10,  5.29s/it]"
     ]
    },
    {
     "name": "stdout",
     "output_type": "stream",
     "text": [
      "(GPU: , epoch: 33, iters: 3, time: 1.758) nll: 1.295797 \n"
     ]
    },
    {
     "name": "stderr",
     "output_type": "stream",
     "text": [
      " 67%|██████▋   | 2/3 [00:10<00:05,  5.36s/it]"
     ]
    },
    {
     "name": "stdout",
     "output_type": "stream",
     "text": [
      "(GPU: , epoch: 33, iters: 6, time: 1.797) nll: 1.715302 \n"
     ]
    },
    {
     "name": "stderr",
     "output_type": "stream",
     "text": [
      "100%|██████████| 3/3 [00:16<00:00,  5.34s/it]\n"
     ]
    },
    {
     "name": "stdout",
     "output_type": "stream",
     "text": [
      "(GPU: , epoch: 33, iters: 9, time: 1.761) nll: 1.379248 \n",
      "[*] End of epoch 33 / 45 \t Time Taken: 16 sec \n",
      "c:\\Users\\Youssef\\Repos\\TUM\\SS23\\Advanced Deep learning\\ADL4CV\\Project\\src\\transformer\\raw_dataset\\logs\\rand-tf-8\n",
      "[*] learning rate = 0.0000900\n"
     ]
    },
    {
     "name": "stderr",
     "output_type": "stream",
     "text": [
      " 33%|███▎      | 1/3 [00:05<00:10,  5.37s/it]"
     ]
    },
    {
     "name": "stdout",
     "output_type": "stream",
     "text": [
      "(GPU: , epoch: 34, iters: 3, time: 1.782) nll: 1.279991 \n"
     ]
    },
    {
     "name": "stderr",
     "output_type": "stream",
     "text": [
      " 67%|██████▋   | 2/3 [00:10<00:05,  5.38s/it]"
     ]
    },
    {
     "name": "stdout",
     "output_type": "stream",
     "text": [
      "(GPU: , epoch: 34, iters: 6, time: 1.790) nll: 1.744786 \n"
     ]
    },
    {
     "name": "stderr",
     "output_type": "stream",
     "text": [
      "100%|██████████| 3/3 [00:16<00:00,  5.37s/it]\n"
     ]
    },
    {
     "name": "stdout",
     "output_type": "stream",
     "text": [
      "(GPU: , epoch: 34, iters: 9, time: 1.774) nll: 1.346243 \n",
      "[*] End of epoch 34 / 45 \t Time Taken: 16 sec \n",
      "c:\\Users\\Youssef\\Repos\\TUM\\SS23\\Advanced Deep learning\\ADL4CV\\Project\\src\\transformer\\raw_dataset\\logs\\rand-tf-8\n",
      "[*] learning rate = 0.0000900\n"
     ]
    },
    {
     "name": "stderr",
     "output_type": "stream",
     "text": [
      " 33%|███▎      | 1/3 [00:05<00:10,  5.19s/it]"
     ]
    },
    {
     "name": "stdout",
     "output_type": "stream",
     "text": [
      "(GPU: , epoch: 35, iters: 3, time: 1.724) nll: 1.321722 \n"
     ]
    },
    {
     "name": "stderr",
     "output_type": "stream",
     "text": [
      " 67%|██████▋   | 2/3 [00:10<00:05,  5.23s/it]"
     ]
    },
    {
     "name": "stdout",
     "output_type": "stream",
     "text": [
      "(GPU: , epoch: 35, iters: 6, time: 1.747) nll: 1.719139 \n"
     ]
    },
    {
     "name": "stderr",
     "output_type": "stream",
     "text": [
      "100%|██████████| 3/3 [00:15<00:00,  5.25s/it]\n"
     ]
    },
    {
     "name": "stdout",
     "output_type": "stream",
     "text": [
      "(GPU: , epoch: 35, iters: 9, time: 1.761) nll: 1.389036 \n",
      "[*] End of epoch 35 / 45 \t Time Taken: 15 sec \n",
      "c:\\Users\\Youssef\\Repos\\TUM\\SS23\\Advanced Deep learning\\ADL4CV\\Project\\src\\transformer\\raw_dataset\\logs\\rand-tf-8\n",
      "[*] learning rate = 0.0000900\n"
     ]
    },
    {
     "name": "stderr",
     "output_type": "stream",
     "text": [
      " 33%|███▎      | 1/3 [00:05<00:11,  5.83s/it]"
     ]
    },
    {
     "name": "stdout",
     "output_type": "stream",
     "text": [
      "(GPU: , epoch: 36, iters: 3, time: 1.934) nll: 1.283137 \n"
     ]
    },
    {
     "name": "stderr",
     "output_type": "stream",
     "text": [
      " 67%|██████▋   | 2/3 [00:11<00:05,  5.66s/it]"
     ]
    },
    {
     "name": "stdout",
     "output_type": "stream",
     "text": [
      "(GPU: , epoch: 36, iters: 6, time: 1.843) nll: 1.697000 \n"
     ]
    },
    {
     "name": "stderr",
     "output_type": "stream",
     "text": [
      "100%|██████████| 3/3 [00:16<00:00,  5.60s/it]\n"
     ]
    },
    {
     "name": "stdout",
     "output_type": "stream",
     "text": [
      "(GPU: , epoch: 36, iters: 9, time: 1.799) nll: 1.365975 \n",
      "[*] End of epoch 36 / 45 \t Time Taken: 16 sec \n",
      "c:\\Users\\Youssef\\Repos\\TUM\\SS23\\Advanced Deep learning\\ADL4CV\\Project\\src\\transformer\\raw_dataset\\logs\\rand-tf-8\n",
      "[*] learning rate = 0.0000900\n"
     ]
    },
    {
     "name": "stderr",
     "output_type": "stream",
     "text": [
      " 33%|███▎      | 1/3 [00:05<00:10,  5.24s/it]"
     ]
    },
    {
     "name": "stdout",
     "output_type": "stream",
     "text": [
      "(GPU: , epoch: 37, iters: 3, time: 1.738) nll: 1.273900 \n"
     ]
    },
    {
     "name": "stderr",
     "output_type": "stream",
     "text": [
      " 67%|██████▋   | 2/3 [00:10<00:05,  5.28s/it]"
     ]
    },
    {
     "name": "stdout",
     "output_type": "stream",
     "text": [
      "(GPU: , epoch: 37, iters: 6, time: 1.760) nll: 1.765110 \n"
     ]
    },
    {
     "name": "stderr",
     "output_type": "stream",
     "text": [
      "100%|██████████| 3/3 [00:15<00:00,  5.26s/it]\n"
     ]
    },
    {
     "name": "stdout",
     "output_type": "stream",
     "text": [
      "(GPU: , epoch: 37, iters: 9, time: 1.744) nll: 1.412504 \n",
      "[*] End of epoch 37 / 45 \t Time Taken: 15 sec \n",
      "c:\\Users\\Youssef\\Repos\\TUM\\SS23\\Advanced Deep learning\\ADL4CV\\Project\\src\\transformer\\raw_dataset\\logs\\rand-tf-8\n",
      "[*] learning rate = 0.0000900\n"
     ]
    },
    {
     "name": "stderr",
     "output_type": "stream",
     "text": [
      " 33%|███▎      | 1/3 [00:05<00:10,  5.35s/it]"
     ]
    },
    {
     "name": "stdout",
     "output_type": "stream",
     "text": [
      "(GPU: , epoch: 38, iters: 3, time: 1.776) nll: 1.311974 \n"
     ]
    },
    {
     "name": "stderr",
     "output_type": "stream",
     "text": [
      " 67%|██████▋   | 2/3 [00:10<00:05,  5.32s/it]"
     ]
    },
    {
     "name": "stdout",
     "output_type": "stream",
     "text": [
      "(GPU: , epoch: 38, iters: 6, time: 1.757) nll: 1.693624 \n"
     ]
    },
    {
     "name": "stderr",
     "output_type": "stream",
     "text": [
      "100%|██████████| 3/3 [00:15<00:00,  5.30s/it]\n"
     ]
    },
    {
     "name": "stdout",
     "output_type": "stream",
     "text": [
      "(GPU: , epoch: 38, iters: 9, time: 1.741) nll: 1.353337 \n",
      "[*] End of epoch 38 / 45 \t Time Taken: 15 sec \n",
      "c:\\Users\\Youssef\\Repos\\TUM\\SS23\\Advanced Deep learning\\ADL4CV\\Project\\src\\transformer\\raw_dataset\\logs\\rand-tf-8\n",
      "[*] learning rate = 0.0000900\n"
     ]
    },
    {
     "name": "stderr",
     "output_type": "stream",
     "text": [
      " 33%|███▎      | 1/3 [00:05<00:10,  5.28s/it]"
     ]
    },
    {
     "name": "stdout",
     "output_type": "stream",
     "text": [
      "(GPU: , epoch: 39, iters: 3, time: 1.755) nll: 1.297291 \n"
     ]
    },
    {
     "name": "stderr",
     "output_type": "stream",
     "text": [
      " 67%|██████▋   | 2/3 [00:10<00:05,  5.23s/it]"
     ]
    },
    {
     "name": "stdout",
     "output_type": "stream",
     "text": [
      "(GPU: , epoch: 39, iters: 6, time: 1.726) nll: 1.709277 \n"
     ]
    },
    {
     "name": "stderr",
     "output_type": "stream",
     "text": [
      "100%|██████████| 3/3 [00:15<00:00,  5.26s/it]\n"
     ]
    },
    {
     "name": "stdout",
     "output_type": "stream",
     "text": [
      "(GPU: , epoch: 39, iters: 9, time: 1.762) nll: 1.364131 \n",
      "[*] End of epoch 39 / 45 \t Time Taken: 15 sec \n",
      "c:\\Users\\Youssef\\Repos\\TUM\\SS23\\Advanced Deep learning\\ADL4CV\\Project\\src\\transformer\\raw_dataset\\logs\\rand-tf-8\n",
      "[*] learning rate = 0.0000900\n"
     ]
    },
    {
     "name": "stderr",
     "output_type": "stream",
     "text": [
      " 33%|███▎      | 1/3 [00:05<00:10,  5.33s/it]"
     ]
    },
    {
     "name": "stdout",
     "output_type": "stream",
     "text": [
      "(GPU: , epoch: 40, iters: 3, time: 1.770) nll: 1.296348 \n"
     ]
    },
    {
     "name": "stderr",
     "output_type": "stream",
     "text": [
      " 67%|██████▋   | 2/3 [00:10<00:05,  5.28s/it]"
     ]
    },
    {
     "name": "stdout",
     "output_type": "stream",
     "text": [
      "(GPU: , epoch: 40, iters: 6, time: 1.742) nll: 1.718211 \n"
     ]
    },
    {
     "name": "stderr",
     "output_type": "stream",
     "text": [
      "100%|██████████| 3/3 [00:15<00:00,  5.24s/it]"
     ]
    },
    {
     "name": "stdout",
     "output_type": "stream",
     "text": [
      "(GPU: , epoch: 40, iters: 9, time: 1.706) nll: 1.425982 \n",
      "saving the model at the end of epoch 40, iters 369\n"
     ]
    },
    {
     "name": "stderr",
     "output_type": "stream",
     "text": [
      "\n"
     ]
    },
    {
     "name": "stdout",
     "output_type": "stream",
     "text": [
      "([test] GPU: , epoch: 40) iou: 0.000 iou_std: 0.000 \n",
      "OrderedDict([('iou', 0.0), ('iou_std', 0.0)])\n",
      "[*] End of epoch 40 / 45 \t Time Taken: 16 sec \n",
      "c:\\Users\\Youssef\\Repos\\TUM\\SS23\\Advanced Deep learning\\ADL4CV\\Project\\src\\transformer\\raw_dataset\\logs\\rand-tf-8\n",
      "[*] learning rate = 0.0000900\n"
     ]
    },
    {
     "name": "stderr",
     "output_type": "stream",
     "text": [
      " 33%|███▎      | 1/3 [00:05<00:11,  5.88s/it]"
     ]
    },
    {
     "name": "stdout",
     "output_type": "stream",
     "text": [
      "(GPU: , epoch: 41, iters: 3, time: 1.954) nll: 1.263996 \n"
     ]
    },
    {
     "name": "stderr",
     "output_type": "stream",
     "text": [
      " 67%|██████▋   | 2/3 [00:11<00:05,  5.72s/it]"
     ]
    },
    {
     "name": "stdout",
     "output_type": "stream",
     "text": [
      "(GPU: , epoch: 41, iters: 6, time: 1.861) nll: 1.763555 \n"
     ]
    },
    {
     "name": "stderr",
     "output_type": "stream",
     "text": [
      "100%|██████████| 3/3 [00:17<00:00,  5.77s/it]\n"
     ]
    },
    {
     "name": "stdout",
     "output_type": "stream",
     "text": [
      "(GPU: , epoch: 41, iters: 9, time: 1.934) nll: 1.370410 \n",
      "[*] End of epoch 41 / 45 \t Time Taken: 17 sec \n",
      "c:\\Users\\Youssef\\Repos\\TUM\\SS23\\Advanced Deep learning\\ADL4CV\\Project\\src\\transformer\\raw_dataset\\logs\\rand-tf-8\n",
      "[*] learning rate = 0.0000900\n"
     ]
    },
    {
     "name": "stderr",
     "output_type": "stream",
     "text": [
      " 33%|███▎      | 1/3 [00:05<00:11,  5.68s/it]"
     ]
    },
    {
     "name": "stdout",
     "output_type": "stream",
     "text": [
      "(GPU: , epoch: 42, iters: 3, time: 1.883) nll: 1.295824 \n"
     ]
    },
    {
     "name": "stderr",
     "output_type": "stream",
     "text": [
      " 67%|██████▋   | 2/3 [00:11<00:05,  5.80s/it]"
     ]
    },
    {
     "name": "stdout",
     "output_type": "stream",
     "text": [
      "(GPU: , epoch: 42, iters: 6, time: 1.950) nll: 1.649851 \n"
     ]
    },
    {
     "name": "stderr",
     "output_type": "stream",
     "text": [
      "100%|██████████| 3/3 [00:17<00:00,  5.70s/it]\n"
     ]
    },
    {
     "name": "stdout",
     "output_type": "stream",
     "text": [
      "(GPU: , epoch: 42, iters: 9, time: 1.840) nll: 1.374060 \n",
      "[*] End of epoch 42 / 45 \t Time Taken: 17 sec \n",
      "c:\\Users\\Youssef\\Repos\\TUM\\SS23\\Advanced Deep learning\\ADL4CV\\Project\\src\\transformer\\raw_dataset\\logs\\rand-tf-8\n",
      "[*] learning rate = 0.0000900\n"
     ]
    },
    {
     "name": "stderr",
     "output_type": "stream",
     "text": [
      " 33%|███▎      | 1/3 [00:05<00:10,  5.45s/it]"
     ]
    },
    {
     "name": "stdout",
     "output_type": "stream",
     "text": [
      "(GPU: , epoch: 43, iters: 3, time: 1.810) nll: 1.317039 \n"
     ]
    },
    {
     "name": "stderr",
     "output_type": "stream",
     "text": [
      " 67%|██████▋   | 2/3 [00:10<00:05,  5.41s/it]"
     ]
    },
    {
     "name": "stdout",
     "output_type": "stream",
     "text": [
      "(GPU: , epoch: 43, iters: 6, time: 1.784) nll: 1.687349 \n"
     ]
    },
    {
     "name": "stderr",
     "output_type": "stream",
     "text": [
      "100%|██████████| 3/3 [00:16<00:00,  5.36s/it]\n"
     ]
    },
    {
     "name": "stdout",
     "output_type": "stream",
     "text": [
      "(GPU: , epoch: 43, iters: 9, time: 1.747) nll: 1.396283 \n",
      "[*] End of epoch 43 / 45 \t Time Taken: 16 sec \n",
      "c:\\Users\\Youssef\\Repos\\TUM\\SS23\\Advanced Deep learning\\ADL4CV\\Project\\src\\transformer\\raw_dataset\\logs\\rand-tf-8\n",
      "[*] learning rate = 0.0000900\n"
     ]
    },
    {
     "name": "stderr",
     "output_type": "stream",
     "text": [
      " 33%|███▎      | 1/3 [00:05<00:11,  5.64s/it]"
     ]
    },
    {
     "name": "stdout",
     "output_type": "stream",
     "text": [
      "(GPU: , epoch: 44, iters: 3, time: 1.873) nll: 1.271808 \n"
     ]
    },
    {
     "name": "stderr",
     "output_type": "stream",
     "text": [
      " 67%|██████▋   | 2/3 [00:11<00:05,  5.80s/it]"
     ]
    },
    {
     "name": "stdout",
     "output_type": "stream",
     "text": [
      "(GPU: , epoch: 44, iters: 6, time: 1.961) nll: 1.698689 \n"
     ]
    },
    {
     "name": "stderr",
     "output_type": "stream",
     "text": [
      "100%|██████████| 3/3 [00:16<00:00,  5.60s/it]"
     ]
    },
    {
     "name": "stdout",
     "output_type": "stream",
     "text": [
      "(GPU: , epoch: 44, iters: 9, time: 1.746) nll: 1.378262 \n",
      "[*] End of epoch 44 / 45 \t Time Taken: 16 sec \n",
      "c:\\Users\\Youssef\\Repos\\TUM\\SS23\\Advanced Deep learning\\ADL4CV\\Project\\src\\transformer\\raw_dataset\\logs\\rand-tf-8\n",
      "[*] learning rate = 0.0000900\n"
     ]
    },
    {
     "name": "stderr",
     "output_type": "stream",
     "text": [
      "\n"
     ]
    }
   ],
   "source": [
    "\n",
    "cprint('[*] Start training. name: %s' % options.name, 'blue')\n",
    "total_steps = 0\n",
    "for epoch in range(options.nepochs + options.nepochs_decay):\n",
    "    epoch_start_time = time.time()\n",
    "    # epoch_iter = 0\n",
    "\n",
    "    # profile\n",
    "    with profiler.profile(\n",
    "        schedule=schedule,\n",
    "        activities=activities,\n",
    "        on_trace_ready=tensorboard_trace_handler,\n",
    "        record_shapes=True,\n",
    "        with_stack=True,\n",
    "    ) as pt_profiler:\n",
    "        train_one_epoch(pt_profiler,epoch)\n",
    "\n",
    "    if epoch % options.save_epoch_freq == 0:\n",
    "        cprint('saving the model at the end of epoch %d, iters %d' %\n",
    "               (epoch, total_steps), 'blue')\n",
    "        latest_name = f'epoch-latest'\n",
    "        model.save(latest_name)\n",
    "        cur_name = f'epoch-{epoch}'\n",
    "        model.save(cur_name)\n",
    "\n",
    "    # eval every 3 epoch\n",
    "    if epoch % options.save_epoch_freq == 0:\n",
    "        metrics =model.eval_metrics(test_dl)\n",
    "        visualizer.print_current_metrics(epoch, metrics, phase='test')\n",
    "        print(metrics)\n",
    "\n",
    "    cprint(f'[*] End of epoch %d / %d \\t Time Taken: %d sec \\n%s' %\n",
    "           (\n",
    "               epoch, options.nepochs + options.nepochs_decay,\n",
    "               time.time() - epoch_start_time,\n",
    "               os.path.abspath(os.path.join(options.logs_dir, options.name))\n",
    "           ), 'blue', attrs=['bold']\n",
    "           )\n",
    "    model.update_learning_rate()\n"
   ]
  },
  {
   "cell_type": "code",
   "execution_count": 86,
   "metadata": {},
   "outputs": [
    {
     "name": "stdout",
     "output_type": "stream",
     "text": [
      "[*] weight successfully load from: ./raw_dataset/logs/rand-tf-8/ckpt/rand_tf_epoch-latest.pth\n",
      "First decode\n"
     ]
    }
   ],
   "source": [
    "tf_checkpoint = './raw_dataset/logs/rand-tf-4/ckpt/rand_tf_epoch-latest.pth'\n",
    "model.load_ckpt(tf_checkpoint)\n",
    "# for i, data in enumerate(train_dl):\n",
    "#     print(data[\"q_set\"].shape)\n",
    "i = dataset[0]\n",
    "i[\"z_set\"] = i[\"z_set\"].argmax(-1).unsqueeze(0)\n",
    "i[\"q_set\"] = i[\"q_set\"].unsqueeze(0)\n",
    "i[\"idx\"]  = i[\"idx\"].unsqueeze(0)\n",
    "model.set_input(i)\n",
    "model.forward()\n"
   ]
  },
  {
   "cell_type": "code",
   "execution_count": null,
   "metadata": {},
   "outputs": [],
   "source": []
  }
 ],
 "metadata": {
  "kernelspec": {
   "display_name": "Python 3",
   "language": "python",
   "name": "python3"
  },
  "language_info": {
   "codemirror_mode": {
    "name": "ipython",
    "version": 3
   },
   "file_extension": ".py",
   "mimetype": "text/x-python",
   "name": "python",
   "nbconvert_exporter": "python",
   "pygments_lexer": "ipython3",
   "version": "3.10.1"
  },
  "orig_nbformat": 4
 },
 "nbformat": 4,
 "nbformat_minor": 2
}
